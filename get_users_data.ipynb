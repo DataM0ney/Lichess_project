{
 "cells": [
  {
   "cell_type": "markdown",
   "metadata": {},
   "source": [
    "## **1. Получение уникальных пользователей и их данных**"
   ]
  },
  {
   "cell_type": "code",
   "execution_count": 1,
   "metadata": {},
   "outputs": [],
   "source": [
    "import requests\n",
    "import datetime\n",
    "import time\n",
    "import json\n",
    "import random\n",
    "import pandas as pd\n",
    "\n",
    "USER_ID = 'SamplingAcc' # тестовый аккаунт №1\n",
    "USER_ID_2 = 'SamplingAcc1' # тестовый аккаунт №2\n",
    "MAX_GAMES = 60  # Максимальное количество игр для извлечения за раз\n",
    "API_HEADERS = {'Accept': 'application/x-ndjson'}\n",
    "\n",
    "# время создания тестового аккаунта в милисекундах и время месяц назад от этого события\n",
    "Creation_time = requests.get('https://lichess.org/api/user/{}'.format(USER_ID)).json().get('createdAt')\n",
    "time_delta_30_days = datetime.timedelta(days=30).total_seconds() * 1000\n",
    "one_month_ago = int(Creation_time - time_delta_30_days)\n",
    "\n",
    "# Функция для парсинга игр и извлечения оппонентов\n",
    "def get_opponents_from_games(games):\n",
    "    opponents = set() # Используем множество для избежания дубликатов\n",
    "    for game in games:\n",
    "        game_data = json.loads(game)\n",
    "        try:\n",
    "            opponents.add(game_data['players']['black']['user']['id'])\n",
    "            opponents.add(game_data['players']['white']['user']['id'])\n",
    "        except:\n",
    "            continue\n",
    "    return list(opponents)\n",
    "\n",
    "# Функция для получения списка игр пользователя за последний месяц\n",
    "def get_games_last_month(username, max_games):\n",
    " \n",
    "    url = 'https://lichess.org/api/games/user/{}'.format(username)\n",
    "    params = {\n",
    "        'max': max_games,\n",
    "        'since': one_month_ago,\n",
    "        'opening': 'false',\n",
    "        'pgnInJson': 'false'\n",
    "    }\n",
    "\n",
    "    response = requests.get(url, params=params, headers=API_HEADERS)\n",
    "    \n",
    "    if response.status_code == 200:\n",
    "        games = response.text.strip().split('\\n')\n",
    "        return games\n",
    "    else:\n",
    "        return []\n",
    "\n",
    "# Функция для получения первоночальных оппонентов (для тестового аккаунта)\n",
    "def get_initial_opponents(user_id):\n",
    "    games = get_games_last_month(user_id, 50)\n",
    "    opponents = get_opponents_from_games(games)\n",
    "    return opponents\n",
    "\n",
    "# Функция для получения датафрейма со всей необходимой информацией об игроках\n",
    "def get_player_data_for_users(user_ids):\n",
    "    url = 'https://lichess.org/api/users'\n",
    "    headers = {'Content-Type': 'text/plain'}\n",
    "    \n",
    "    data = ','.join(user_ids)  # Список пользователей через запятую\n",
    "    response = requests.post(url, headers=headers, data=data)\n",
    "    \n",
    "    if response.status_code == 200:\n",
    "        users_data = response.json()\n",
    "        players_info = []\n",
    "        \n",
    "        for user in users_data:\n",
    "            profile = user.get('profile', {})\n",
    "            blitz = user.get('perfs', {}).get('blitz', {})\n",
    "            rapid = user.get('perfs', {}).get('rapid', {})\n",
    "            bullet = user.get('perfs', {}).get('bullet', {})\n",
    "            puzzle = user.get('perfs', {}).get('puzzle', {})\n",
    "            racer = user.get('perfs', {}).get('racer', {})\n",
    "            classical = user.get('perfs', {}).get('classical', {})\n",
    "            play_time = user.get('playTime', {})\n",
    "            \n",
    "            player_info = {\n",
    "                'username': user.get('username'),\n",
    "                'createdAt': user.get('createdAt'),\n",
    "                'play_time_total': play_time.get('total', None),\n",
    "                'play_time_tv': play_time.get('tv', None),\n",
    "                'flag': profile.get('flag', None),\n",
    "                'blitz_rating': blitz.get('rating', None),\n",
    "                'blitz_rd': blitz.get('rd', None),\n",
    "                'blitz_games': blitz.get('games', None),\n",
    "                'blitz_prog': blitz.get('prog', None),\n",
    "                'rapid_rating': rapid.get('rating', None),\n",
    "                'rapid_rd': rapid.get('rd', None),\n",
    "                'rapid_games': rapid.get('games', None),\n",
    "                'bullet_rating': bullet.get('rating', None),\n",
    "                'bullet_rd': bullet.get('rd', None),\n",
    "                'bullet_games': bullet.get('games', None),\n",
    "                'classical_rating': classical.get('rating', None),\n",
    "                'classical_rd': classical.get('rd', None),\n",
    "                'classical_games': classical.get('games', None),\n",
    "                'puzzle_rating': puzzle.get('rating', None),\n",
    "                'puzzle_rd': puzzle.get('rd', None),\n",
    "                'puzzle_games': puzzle.get('games', None),\n",
    "                'racer_runs': racer.get('runs', None),\n",
    "                'racer_score': racer.get('score', None)              \n",
    "            }\n",
    "            players_info.append(player_info)\n",
    "        \n",
    "        return pd.DataFrame(players_info)\n",
    "    else:\n",
    "        print(\"Error getting data:\", response.status_code)\n",
    "        return pd.DataFrame()  \n",
    "\n",
    "# Функция для получения всех оппонентов по цепочке от начальных оппонентов, итерируем 2 раза\n",
    "def get_all_opponents(initial_opponents):\n",
    "    opponents = initial_opponents\n",
    "    all_opponents = []\n",
    "    \n",
    "    for i in range (2):\n",
    "        for user in opponents:\n",
    "            games = get_games_last_month(user, MAX_GAMES)\n",
    "            opps = get_opponents_from_games(games)\n",
    "            all_opponents.extend(opps)\n",
    "        opponents = set(all_opponents)\n",
    "    all_opponents = list(set(all_opponents))\n",
    "    return(all_opponents)   "
   ]
  },
  {
   "cell_type": "markdown",
   "metadata": {},
   "source": [
    "**Получаем список начальных оппонентов по двум тестовым аккаунтам, в которых оппоненты охватывают большой диапазон рейтингов, примерно от 700 до 2400. Далее получаем оппонентов их оппонентов, и так 2 раза. Максимальное количество получаемых оппонентов одного игрока установлено в параметре MAX_GAMES = 60.**"
   ]
  },
  {
   "cell_type": "code",
   "execution_count": 2,
   "metadata": {},
   "outputs": [],
   "source": [
    "initial_opponents = get_initial_opponents(USER_ID)\n",
    "initial_opponents.extend(get_initial_opponents(USER_ID_2))\n",
    "all_opponents = get_all_opponents(initial_opponents)"
   ]
  },
  {
   "cell_type": "code",
   "execution_count": 3,
   "metadata": {},
   "outputs": [
    {
     "data": {
      "text/plain": [
       "68"
      ]
     },
     "execution_count": 3,
     "metadata": {},
     "output_type": "execute_result"
    }
   ],
   "source": [
    "len(initial_opponents)  # количество начальных оппонентов"
   ]
  },
  {
   "cell_type": "code",
   "execution_count": 4,
   "metadata": {
    "scrolled": true
   },
   "outputs": [
    {
     "data": {
      "text/plain": [
       "114477"
      ]
     },
     "execution_count": 4,
     "metadata": {},
     "output_type": "execute_result"
    }
   ],
   "source": [
    "len(all_opponents)  # полученное количество уникальных оппонентов"
   ]
  },
  {
   "cell_type": "markdown",
   "metadata": {},
   "source": [
    "**Получаем информацию по всем полученным уникальным игрокам и записываем в DataFrame.\n",
    "\"Get users by ID Get up to 300 users by their IDs.\n",
    "This endpoint is limited to 8,000 users every 10 minutes, and 120,000 every day.\"**"
   ]
  },
  {
   "cell_type": "code",
   "execution_count": 5,
   "metadata": {},
   "outputs": [
    {
     "name": "stdout",
     "output_type": "stream",
     "text": [
      "('Error getting data:', 429)\n",
      "The request limit has been reached.. Waiting time 10 minutes...\n",
      "('Error getting data:', 429)\n",
      "The request limit has been reached.. Waiting time 10 minutes...\n",
      "('Error getting data:', 429)\n",
      "The request limit has been reached.. Waiting time 10 minutes...\n",
      "('Error getting data:', 429)\n",
      "The request limit has been reached.. Waiting time 10 minutes...\n",
      "('Error getting data:', 429)\n",
      "The request limit has been reached.. Waiting time 10 minutes...\n",
      "('Error getting data:', 429)\n",
      "The request limit has been reached.. Waiting time 10 minutes...\n",
      "('Error getting data:', 429)\n",
      "The request limit has been reached.. Waiting time 10 minutes...\n",
      "('Error getting data:', 429)\n",
      "The request limit has been reached.. Waiting time 10 minutes...\n",
      "('Error getting data:', 429)\n",
      "The request limit has been reached.. Waiting time 10 minutes...\n",
      "('Error getting data:', 429)\n",
      "The request limit has been reached.. Waiting time 10 minutes...\n",
      "('Error getting data:', 429)\n",
      "The request limit has been reached.. Waiting time 10 minutes...\n",
      "('Error getting data:', 429)\n",
      "The request limit has been reached.. Waiting time 10 minutes...\n",
      "('Error getting data:', 429)\n",
      "The request limit has been reached.. Waiting time 10 minutes...\n",
      "\n",
      "Collected info of 108900 players\n"
     ]
    }
   ],
   "source": [
    "all_players_info = pd.DataFrame()  \n",
    "queue = all_opponents\n",
    "    \n",
    "while len(all_players_info) < len(all_opponents) * 0.95:\n",
    "        # Берем пользователей из очереди и запрашиваем их инфо массово\n",
    "        current_batch = queue[:300]  # Отправляем запросы по 300 пользователей\n",
    "        queue = queue[300:]\n",
    "        players_info = get_player_data_for_users(current_batch)\n",
    "        \n",
    "        if players_info.empty:  \n",
    "            print(\"The request limit has been reached.. Waiting time 10 minutes...\")\n",
    "            time.sleep(10 * 60 + 1)  # Ждем 10 минут \n",
    "            continue  \n",
    "        \n",
    "        all_players_info = pd.concat([all_players_info, players_info]) \n",
    "        \n",
    "print ('\\nCollected info of {} players'.format(len(all_players_info)))"
   ]
  },
  {
   "cell_type": "code",
   "execution_count": 7,
   "metadata": {},
   "outputs": [
    {
     "data": {
      "text/plain": [
       "105592"
      ]
     },
     "execution_count": 7,
     "metadata": {},
     "output_type": "execute_result"
    }
   ],
   "source": [
    "# Поскольку выборка, на распределение которой мы ориентируемся, относится к типу blitz, \n",
    "# отфильтруем пользователей, у которых хотя бы 1 игра в blitz.\n",
    "\n",
    "blitz_players_info = all_players_info[all_players_info['blitz_games'] > 1].copy()\n",
    "\n",
    "blitz_players_info.shape[0]"
   ]
  },
  {
   "cell_type": "code",
   "execution_count": 8,
   "metadata": {
    "scrolled": true
   },
   "outputs": [
    {
     "data": {
      "text/html": [
       "<div>\n",
       "<style scoped>\n",
       "    .dataframe tbody tr th:only-of-type {\n",
       "        vertical-align: middle;\n",
       "    }\n",
       "\n",
       "    .dataframe tbody tr th {\n",
       "        vertical-align: top;\n",
       "    }\n",
       "\n",
       "    .dataframe thead th {\n",
       "        text-align: right;\n",
       "    }\n",
       "</style>\n",
       "<table border=\"1\" class=\"dataframe\">\n",
       "  <thead>\n",
       "    <tr style=\"text-align: right;\">\n",
       "      <th></th>\n",
       "      <th>blitz_games</th>\n",
       "      <th>blitz_prog</th>\n",
       "      <th>blitz_rating</th>\n",
       "      <th>blitz_rd</th>\n",
       "      <th>bullet_games</th>\n",
       "      <th>bullet_rating</th>\n",
       "      <th>bullet_rd</th>\n",
       "      <th>classical_games</th>\n",
       "      <th>classical_rating</th>\n",
       "      <th>classical_rd</th>\n",
       "      <th>...</th>\n",
       "      <th>play_time_tv</th>\n",
       "      <th>puzzle_games</th>\n",
       "      <th>puzzle_rating</th>\n",
       "      <th>puzzle_rd</th>\n",
       "      <th>racer_runs</th>\n",
       "      <th>racer_score</th>\n",
       "      <th>rapid_games</th>\n",
       "      <th>rapid_rating</th>\n",
       "      <th>rapid_rd</th>\n",
       "      <th>username</th>\n",
       "    </tr>\n",
       "  </thead>\n",
       "  <tbody>\n",
       "    <tr>\n",
       "      <th>0</th>\n",
       "      <td>4169.0</td>\n",
       "      <td>28.0</td>\n",
       "      <td>1799.0</td>\n",
       "      <td>45.0</td>\n",
       "      <td>3.0</td>\n",
       "      <td>1320.0</td>\n",
       "      <td>303.0</td>\n",
       "      <td>4.0</td>\n",
       "      <td>1855.0</td>\n",
       "      <td>295.0</td>\n",
       "      <td>...</td>\n",
       "      <td>0.0</td>\n",
       "      <td>39153.0</td>\n",
       "      <td>1837.0</td>\n",
       "      <td>74.0</td>\n",
       "      <td>NaN</td>\n",
       "      <td>NaN</td>\n",
       "      <td>811.0</td>\n",
       "      <td>1948.0</td>\n",
       "      <td>45.0</td>\n",
       "      <td>Arminsaei</td>\n",
       "    </tr>\n",
       "    <tr>\n",
       "      <th>1</th>\n",
       "      <td>10819.0</td>\n",
       "      <td>20.0</td>\n",
       "      <td>1565.0</td>\n",
       "      <td>45.0</td>\n",
       "      <td>515.0</td>\n",
       "      <td>1511.0</td>\n",
       "      <td>45.0</td>\n",
       "      <td>3.0</td>\n",
       "      <td>1285.0</td>\n",
       "      <td>289.0</td>\n",
       "      <td>...</td>\n",
       "      <td>0.0</td>\n",
       "      <td>22.0</td>\n",
       "      <td>1146.0</td>\n",
       "      <td>226.0</td>\n",
       "      <td>NaN</td>\n",
       "      <td>NaN</td>\n",
       "      <td>32.0</td>\n",
       "      <td>1457.0</td>\n",
       "      <td>216.0</td>\n",
       "      <td>hparaph</td>\n",
       "    </tr>\n",
       "    <tr>\n",
       "      <th>2</th>\n",
       "      <td>10566.0</td>\n",
       "      <td>6.0</td>\n",
       "      <td>1891.0</td>\n",
       "      <td>45.0</td>\n",
       "      <td>7984.0</td>\n",
       "      <td>1758.0</td>\n",
       "      <td>57.0</td>\n",
       "      <td>1.0</td>\n",
       "      <td>1833.0</td>\n",
       "      <td>457.0</td>\n",
       "      <td>...</td>\n",
       "      <td>2937.0</td>\n",
       "      <td>154.0</td>\n",
       "      <td>1956.0</td>\n",
       "      <td>129.0</td>\n",
       "      <td>NaN</td>\n",
       "      <td>NaN</td>\n",
       "      <td>334.0</td>\n",
       "      <td>1961.0</td>\n",
       "      <td>166.0</td>\n",
       "      <td>Pawnov</td>\n",
       "    </tr>\n",
       "    <tr>\n",
       "      <th>3</th>\n",
       "      <td>4441.0</td>\n",
       "      <td>26.0</td>\n",
       "      <td>1674.0</td>\n",
       "      <td>45.0</td>\n",
       "      <td>935.0</td>\n",
       "      <td>1630.0</td>\n",
       "      <td>45.0</td>\n",
       "      <td>0.0</td>\n",
       "      <td>1500.0</td>\n",
       "      <td>500.0</td>\n",
       "      <td>...</td>\n",
       "      <td>0.0</td>\n",
       "      <td>2229.0</td>\n",
       "      <td>1666.0</td>\n",
       "      <td>75.0</td>\n",
       "      <td>NaN</td>\n",
       "      <td>NaN</td>\n",
       "      <td>5.0</td>\n",
       "      <td>1611.0</td>\n",
       "      <td>211.0</td>\n",
       "      <td>areconster</td>\n",
       "    </tr>\n",
       "    <tr>\n",
       "      <th>4</th>\n",
       "      <td>15.0</td>\n",
       "      <td>7.0</td>\n",
       "      <td>1729.0</td>\n",
       "      <td>173.0</td>\n",
       "      <td>0.0</td>\n",
       "      <td>1500.0</td>\n",
       "      <td>500.0</td>\n",
       "      <td>0.0</td>\n",
       "      <td>1500.0</td>\n",
       "      <td>500.0</td>\n",
       "      <td>...</td>\n",
       "      <td>0.0</td>\n",
       "      <td>88.0</td>\n",
       "      <td>2186.0</td>\n",
       "      <td>93.0</td>\n",
       "      <td>NaN</td>\n",
       "      <td>NaN</td>\n",
       "      <td>172.0</td>\n",
       "      <td>1868.0</td>\n",
       "      <td>45.0</td>\n",
       "      <td>J_King18</td>\n",
       "    </tr>\n",
       "  </tbody>\n",
       "</table>\n",
       "<p>5 rows × 23 columns</p>\n",
       "</div>"
      ],
      "text/plain": [
       "   blitz_games  blitz_prog  blitz_rating  blitz_rd  bullet_games  \\\n",
       "0       4169.0        28.0        1799.0      45.0           3.0   \n",
       "1      10819.0        20.0        1565.0      45.0         515.0   \n",
       "2      10566.0         6.0        1891.0      45.0        7984.0   \n",
       "3       4441.0        26.0        1674.0      45.0         935.0   \n",
       "4         15.0         7.0        1729.0     173.0           0.0   \n",
       "\n",
       "   bullet_rating  bullet_rd  classical_games  classical_rating  classical_rd  \\\n",
       "0         1320.0      303.0              4.0            1855.0         295.0   \n",
       "1         1511.0       45.0              3.0            1285.0         289.0   \n",
       "2         1758.0       57.0              1.0            1833.0         457.0   \n",
       "3         1630.0       45.0              0.0            1500.0         500.0   \n",
       "4         1500.0      500.0              0.0            1500.0         500.0   \n",
       "\n",
       "   ...  play_time_tv puzzle_games  puzzle_rating  puzzle_rd  racer_runs  \\\n",
       "0  ...           0.0      39153.0         1837.0       74.0         NaN   \n",
       "1  ...           0.0         22.0         1146.0      226.0         NaN   \n",
       "2  ...        2937.0        154.0         1956.0      129.0         NaN   \n",
       "3  ...           0.0       2229.0         1666.0       75.0         NaN   \n",
       "4  ...           0.0         88.0         2186.0       93.0         NaN   \n",
       "\n",
       "   racer_score  rapid_games  rapid_rating  rapid_rd    username  \n",
       "0          NaN        811.0        1948.0      45.0   Arminsaei  \n",
       "1          NaN         32.0        1457.0     216.0     hparaph  \n",
       "2          NaN        334.0        1961.0     166.0      Pawnov  \n",
       "3          NaN          5.0        1611.0     211.0  areconster  \n",
       "4          NaN        172.0        1868.0      45.0    J_King18  \n",
       "\n",
       "[5 rows x 23 columns]"
      ]
     },
     "execution_count": 8,
     "metadata": {},
     "output_type": "execute_result"
    }
   ],
   "source": [
    "blitz_players_info.head()"
   ]
  },
  {
   "cell_type": "code",
   "execution_count": 9,
   "metadata": {},
   "outputs": [],
   "source": [
    "all_players_info.to_csv('all_players_info.csv', index=False)"
   ]
  },
  {
   "cell_type": "markdown",
   "metadata": {},
   "source": [
    "## **2. Сэмплирование, получение репрезантативной выборки**"
   ]
  },
  {
   "cell_type": "code",
   "execution_count": 10,
   "metadata": {},
   "outputs": [],
   "source": [
    "TARGET_SAMPLE_SIZE = 34000   # Целевой размер выборки\n",
    "\n",
    "# Определение рейтинговых бинов и их целевых пропорций в соответствии с распределением lichess\n",
    "RATING_BINS = {\n",
    "    'below_800': {'min': 0, 'max': 800, 'target_pct': 0.03, 'current': 0},\n",
    "    '800_1000': {'min': 800, 'max': 1000, 'target_pct': 0.08, 'current': 0},\n",
    "    '1000_1200': {'min': 1000, 'max': 1200, 'target_pct': 0.14, 'current': 0},\n",
    "    '1200_1300': {'min': 1200, 'max': 1300, 'target_pct': 0.08, 'current': 0},\n",
    "    '1300_1400': {'min': 1300, 'max': 1400, 'target_pct': 0.085, 'current': 0},\n",
    "    '1400_1500': {'min': 1400, 'max': 1500, 'target_pct': 0.09, 'current': 0},\n",
    "    '1500_1600': {'min': 1500, 'max': 1600, 'target_pct': 0.09, 'current': 0},\n",
    "    '1600_1700': {'min': 1600, 'max': 1700, 'target_pct': 0.09, 'current': 0},\n",
    "    '1700_1800': {'min': 1700, 'max': 1800, 'target_pct': 0.08, 'current': 0},\n",
    "    '1800_1900': {'min': 1800, 'max': 1900, 'target_pct': 0.07, 'current': 0},\n",
    "    '1900_2000': {'min': 1900, 'max': 2000, 'target_pct': 0.06, 'current': 0},\n",
    "    '2000_2100': {'min': 2000, 'max': 2100, 'target_pct': 0.04, 'current': 0},\n",
    "    '2100_2325': {'min': 2100, 'max': 2325, 'target_pct': 0.05, 'current': 0},\n",
    "    'above_2325': {'min': 2325, 'max': 3000, 'target_pct': 0.015, 'current': 0}\n",
    "}\n",
    "\n",
    "# Функция для определения бина по рейтингу\n",
    "def get_rating_bin(rating):\n",
    "    for bin_name, bin_info in RATING_BINS.items():\n",
    "        if bin_info['min'] <= rating < bin_info['max']:\n",
    "            return bin_name\n",
    "    return None\n",
    "\n",
    "# Функция для случайного выбора пользователей по бинам\n",
    "def select_sample(df, final_sample_size):\n",
    "    sample = pd.DataFrame()  # DataFrame для выборки\n",
    "\n",
    "    # Определение целевого количества пользователей для каждого бина\n",
    "    for bin_name, bin_info in RATING_BINS.items():\n",
    "        bin_info['target_count'] = int(final_sample_size * bin_info['target_pct'])\n",
    "\n",
    "    # Добавляем колонку с биноми в DataFrame\n",
    "    df['bin'] = df['blitz_rating'].apply(get_rating_bin)\n",
    "\n",
    "    # Для каждого бина случайно выбираем пользователей в соответствии с целевым размером\n",
    "    for bin_name, bin_info in RATING_BINS.items():\n",
    "        target_count = bin_info['target_count']\n",
    "        \n",
    "        # Фильтруем пользователей по текущему бину\n",
    "        users_in_bin = df[df['bin'] == bin_name]\n",
    "        \n",
    "        if len(users_in_bin) < target_count:\n",
    "            print(\"Not enought users in bin {}: {} availible, {} necessary.\").format(bin_name, len(users_in_bin), target_count)\n",
    "        \n",
    "        # Выбираем случайных пользователей из данного бина\n",
    "        selected_users = users_in_bin.sample(n=min(target_count, len(users_in_bin)))\n",
    "        \n",
    "        # Добавляем выбранных пользователей в итоговую выборку\n",
    "        sample = pd.concat([sample, selected_users])\n",
    "\n",
    "    return sample"
   ]
  },
  {
   "cell_type": "code",
   "execution_count": 11,
   "metadata": {},
   "outputs": [],
   "source": [
    "sample_df = select_sample(blitz_players_info, TARGET_SAMPLE_SIZE)"
   ]
  },
  {
   "cell_type": "code",
   "execution_count": 12,
   "metadata": {},
   "outputs": [],
   "source": [
    "sample_df.to_csv('sample_df.csv', index=False)"
   ]
  },
  {
   "cell_type": "code",
   "execution_count": 15,
   "metadata": {},
   "outputs": [
    {
     "data": {
      "image/png": "[encoded data removed]",
      "text/plain": [
       "<Figure size 1008x432 with 1 Axes>"
      ]
     },
     "metadata": {
      "needs_background": "light"
     },
     "output_type": "display_data"
    }
   ],
   "source": [
    "import matplotlib.pyplot as plt\n",
    "ratings = sample_df['blitz_rating'].dropna()\n",
    "\n",
    "# Построение гистограммы распределения игроков по рейтингам\n",
    "plt.figure(figsize=(14,6))\n",
    "plt.hist(ratings, bins=range(int(min(ratings)), int(max(ratings)) + 50, 50), edgecolor='black')\n",
    "plt.title('Distribution of Blitz Players by Rating')\n",
    "plt.xlabel('Rating')\n",
    "plt.ylabel('Number of Players')\n",
    "plt.grid(True)\n",
    "plt.show()"
   ]
  },
  {
   "cell_type": "markdown",
   "metadata": {},
   "source": [
    "**Распределение полученной выборки близко к недельному распределению на сайте и приближенно отражает распределение\n",
    "игроков по силе игры. Определение рейтинговых бинов и их целевых пропорций составлялось в сентябре 2024.\n",
    "https://lichess.org/stat/rating/distribution/blitz**"
   ]
  }
 ],
 "metadata": {
  "kernelspec": {
   "display_name": "Python 2",
   "language": "python",
   "name": "python2"
  },
  "language_info": {
   "codemirror_mode": {
    "name": "ipython",
    "version": 2
   },
   "file_extension": ".py",
   "mimetype": "text/x-python",
   "name": "python",
   "nbconvert_exporter": "python",
   "pygments_lexer": "ipython2",
   "version": "2.7.16"
  }
 },
 "nbformat": 4,
 "nbformat_minor": 2
}
